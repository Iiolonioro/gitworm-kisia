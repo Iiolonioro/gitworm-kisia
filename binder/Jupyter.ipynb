{
  "cells": [
    {
      "cell_type": "markdown",
      "source": [
        "# The Jupyter Ecosystem\n",
        "\n",
        "- [History and Context](#history-and-context)\n",
        "- Jupyter\n",
        "- JupyterLab\n",
        "- Nteract\n",
        "- Binder\n",
        "\n\n",
        "## Challenges facing the Identity-Tech Ecosystem\n",
        "\n",
        "- Terminology\n",
        "- Adoption / Education\n",
        "\n\n",
        "### History and Context\n",
        "\n",
        "How the ipython instructional environment lead to this.\n",
        "How old is the effort\n",
        "How big is the user community\n",
        "\n\n",
        "# Binder\n",
        "\n",
        "- https://mybinder.org/\n",
        "Interact with your notebooks in a live environment!\n",
        "A JupyterHub server will host your repository's contents. We offer you a reusable link and badge to your live repository that you can easily share with others.\n",
        "\n"
      ],
      "metadata": {
        "collapsed": false,
        "outputHidden": false,
        "inputHidden": false
      }
    },
    {
      "cell_type": "code",
      "source": [],
      "outputs": [],
      "execution_count": null,
      "metadata": {
        "collapsed": false,
        "outputHidden": false,
        "inputHidden": false
      }
    }
  ],
  "metadata": {
    "kernel_info": {
      "name": "python3"
    },
    "language_info": {
      "name": "python3"
    },
    "kernelspec": {
      "argv": [
        "/Users/korsimoro/k/jupyterlab_app/settings/venv/bin/python3.7",
        "-m",
        "ipykernel_launcher",
        "-f",
        "{connection_file}"
      ],
      "display_name": "Python 3",
      "language": "python",
      "name": "python3"
    },
    "nteract": {
      "version": "0.12.3"
    }
  },
  "nbformat": 4,
  "nbformat_minor": 4
}