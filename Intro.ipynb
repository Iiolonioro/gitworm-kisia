{
  "cells": [
    {
      "cell_type": "markdown",
      "source": [
        "# Identity-Tech on Jupyter\n",
        "\n",
        "The [*identity-tech*]() ecosystem is a large, global, chaotic, self organized and maturing community of people and organizations collectively\n",
        "- executing projects\n",
        "- generating documents, code, and other digital artifacts\n",
        "- operating systems and services\n",
        "and occasionally gathering in global meetings in an effort to figure itself out.\n",
        "\n",
        "The [*interactive-computing*](https://en.wikipedia.org/wiki/Interactive_computing) ecosystem is a large, global, chaotic, self organized and maturing community of people and organizations collectively\n",
        "- executing projects\n",
        "- generating documents, code, and other digital artifacts\n",
        "- operating systems and services\n",
        "and occasionally gathering in global meetings in an effort to figure itself out.\n",
        "\n",
        "Jupyter is a leading interactive computing environment today[1](https://www.nature.com/articles/d41586-018-07196-1/), and it is big enough to do AI in a distributed, automated fashion.[2](https://cloud.google.com/blog/products/ai-machine-learning/let-deep-learning-vms-and-jupyter-notebooks-to-burn-the-midnight-oil-for-you-robust-and-automated-training-with-papermill).  The Jupyter ecosystem achieves this is with a system of secured personal agents running custom code in support of a Notebook.\n"
      ],
      "metadata": {
        "collapsed": false,
        "outputHidden": false,
        "inputHidden": false
      }
    },
    {
      "cell_type": "markdown",
      "source": [
        "## A Running Kernel is like an Agent or Cloud-Wallet\n",
        "\n",
        "For example, opening a notebook and spinning up a session-bound kernel is very much like the concept of agent in hyperledger-indy and other identity-tech frameworks.  The difference between identity-tech agents and jupyter kernels is that the latter are currently in use by millions of people around the world and the former is still under development.  The current jupyter system is based on 2nd generation identity tech. is being designed around 3rd generation identity tech.\n"
      ],
      "metadata": {
        "collapsed": false,
        "outputHidden": false,
        "inputHidden": false
      }
    },
    {
      "cell_type": "markdown",
      "source": [
        "\n",
        "## KIT-Workbench\n",
        "\n",
        "The KIT-Workbench leverages the complete power of the jupyter interactive computing ecosystem to enable technical and non-technical people and organizations to collectively promote broad adoption of 3rd generation identity tech and to advance the state of identity-tech.\n",
        "\n",
        "To make sense of this claim, we must quicky orient ourselves to the basic concepts of the jupyter universe - which are introduced below in the context of the KIT-Workbench.\n",
        "\n",
        "- A *Binder* is a set of notebooks stored in a git repository.\n",
        "\n",
        "- A *Notebook* is an educational document containing interleaved blocks of markdown and runnable code, along with the results of running that code on a kernel.  Typically, if a kernel is not available for active re-evaluation, then the \"last known state\" is displayed - which makes notebooks ideal for pedagogy and publication.\n",
        "\n",
        "- A *Kernel* is a running docker container, bound to a specific notebook.  The Kernel holds the execution state of the notebook and provides the ability to run the code blocks in the Notebook.\n",
        "\n",
        "Kernels and Notebooks have the following properties:\n",
        "- Kernels can be restarted, resulting in a blank state\n",
        "- Notebooks can be \"run against a Kernel\"\n",
        "- Notebooks and Kernels can be disconnected and reconnected\n",
        "- Notebooks can be shared, versioned, and distributed as JSON files\n",
        "- Notebooks and Kernels communicate over ZMQ\n"
      ],
      "metadata": {}
    },
    {
      "cell_type": "code",
      "source": [
        "help"
      ],
      "outputs": [
        {
          "output_type": "display_data",
          "data": {
            "text/plain": [
              "Usage: cli [OPTIONS] COMMAND [ARGS]...\n",
              "\n",
              "  CLI utilities for interacting with the identity-tech ecosystem.\n",
              "\n",
              "Options:\n",
              "  --config-path DIRECTORY  Changes the configuration environment.\n",
              "  -v, --verbose            Enables verbose mode.\n",
              "  --help                   Show this message and exit.\n",
              "\n",
              "Commands:\n",
              "  config   Manage the toolkit configuration settings.\n",
              "  docptr   Manage DocPtrs, which describe a document which can be referenced...\n",
              "  eco      Perform ecosystem level tasks.\n",
              "  github   Pull information from GitHub API.\n",
              "  gitworm  Manage GitWorm checkout.\n",
              "  google   Read/Write Google Assets.\n",
              "  help     prints help info\n",
              "  logs     View, export and clear semantic log data.\n",
              "  nlp      Apply NLP logic.\n",
              "  tool     CLI utilities for interacting with the identity-tech ecosystem.\n",
              "  web      Work with non-API based web sources.\n",
              "  xlate    Translate between workspace resident JSON data models.\n",
              "None"
            ]
          },
          "metadata": {}
        }
      ],
      "execution_count": 1,
      "metadata": {}
    },
    {
      "cell_type": "markdown",
      "source": [
        "Kernels respond to execution requests with blocks indexed by mime-type, and Notebooks display the output using the appropriate mime-type driver.  This includes simple response types like text/plain and text/html, to entire SPAs delivered as React applets.  ZMQ messaging is leveraged to allow the kernel and notebook to support long-running processes with rich bi-directional communitucation - basically mini-web-sites connecting with your active data engine."
      ],
      "metadata": {}
    },
    {
      "cell_type": "markdown",
      "source": [
        "\n",
        "## [Oort Cloud](https://www.universetoday.com/32522/oort-cloud/)\n",
        "\n",
        "If KIT-Workbench provides real value and engages the interest of both communities, then we can expect to see the collaboration bear a bit of beautiful fruit - which we'll call the Oort Cloud, just for fun.\n",
        "\n",
        "Large Scale Jupyter deployments operate on top of container systems where a live jupyter kernel is implemented as a container.  The need to activate these kernel containers based on specific user identity exposes the underlying container system's IAM infrastructure - think Digital Ocean, Amazon, Azure, IBM, Google, etc.  Classic enterprise and social IAM is more than adequate for private jupyter lab deployments such as those in corporate and public sector research institutes and is generally adqueate for public interest projects.\n",
        "\n",
        "However, the addition of 3rd generation identity tech enables the evolution of the jupyter infrastructure.\n",
        "\n",
        "Fortunately, there is no qualitative link between the IAM requirements of the Jupyter layer and the underlying container system.  Furthermore, there are clear tap points for adapting to 3rd generation identity tech, such as providing access through DID-TLS, and using VCs and ZKPs to \n",
        "\n\n\n",
        "integrate with classic castle systems as needed.  \n",
        "Replacement of the core identity-tech, both for \n",
        "\n",
        "3rd generation identity tech enables the jupyter based, vendor-agnostic, distributed computing environment on par with cloud-based container ecosystems like Digital Ocean.\n",
        "\n\n"
      ],
      "metadata": {}
    },
    {
      "cell_type": "markdown",
      "source": [],
      "metadata": {}
    },
    {
      "cell_type": "markdown",
      "source": [],
      "metadata": {}
    }
  ],
  "metadata": {
    "kernel_info": {
      "name": "node_nteract"
    },
    "language_info": {
      "name": "javascript",
      "version": "10.2.0",
      "mimetype": "application/javascript",
      "file_extension": ".js"
    },
    "kernelspec": {
      "name": "node_nteract",
      "language": "javascript",
      "display_name": "Node.js (nteract)"
    },
    "nteract": {
      "version": "0.12.3"
    }
  },
  "nbformat": 4,
  "nbformat_minor": 4
}