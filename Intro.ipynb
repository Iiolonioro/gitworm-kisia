{
  "cells": [
    {
      "cell_type": "markdown",
      "source": [
        "# Identity-Tech on Jupyter\n",
        "\n",
        "The identity-tech ecosystem is a vast, chaotic, maturing community of people and organizations collectively executing projects, generating documents, operating systems, and occasionally gathering in physical meetings.\n",
        "\n",
        "The interactive-computing-ecosystem is a vast, chaotic, maturing community of people and organizations collectively executing projects, generating documents, operating systems, and occasionally gathering in physical meetings.\n",
        "\n",
        "The KIT-Workbench project is an effort to connect these two ecosystems.\n",
        "\n",
        "# Challenges facing the Identity-Tech Ecosystem\n",
        "\n",
        "- Terminology\n",
        "- Adoption / Education\n",
        "\n",
        "# What is the Jupyter Ecosystem\n",
        "\n",
        "The Jupyter Ecosystem is \n",
        "\n\n"
      ],
      "metadata": {
        "collapsed": false,
        "outputHidden": false,
        "inputHidden": false
      }
    },
    {
      "cell_type": "code",
      "source": [],
      "outputs": [],
      "execution_count": null,
      "metadata": {
        "collapsed": false,
        "outputHidden": false,
        "inputHidden": false
      }
    }
  ],
  "metadata": {
    "kernel_info": {
      "name": "python3"
    },
    "language_info": {
      "name": "python3"
    },
    "kernelspec": {
      "argv": [
        "/Users/korsimoro/k/jupyterlab_app/settings/venv/bin/python3.7",
        "-m",
        "ipykernel_launcher",
        "-f",
        "{connection_file}"
      ],
      "display_name": "Python 3",
      "language": "python",
      "name": "python3"
    },
    "nteract": {
      "version": "0.12.3"
    }
  },
  "nbformat": 4,
  "nbformat_minor": 4
}